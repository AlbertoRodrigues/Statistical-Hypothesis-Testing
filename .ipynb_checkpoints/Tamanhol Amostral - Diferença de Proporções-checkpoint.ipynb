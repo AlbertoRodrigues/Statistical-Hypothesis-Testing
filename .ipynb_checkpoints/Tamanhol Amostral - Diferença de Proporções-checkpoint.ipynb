{
 "cells": [
  {
   "cell_type": "code",
   "execution_count": 1,
   "id": "445eb7b5",
   "metadata": {},
   "outputs": [],
   "source": [
    "from scipy import stats\n",
    "import numpy as np"
   ]
  },
  {
   "cell_type": "code",
   "execution_count": 2,
   "id": "d88201ff",
   "metadata": {},
   "outputs": [],
   "source": [
    "def tamanho_amostral(p1, p2, poder_teste, alpha):\n",
    "    z_alpha=stats.norm.ppf(alpha)\n",
    "    z_beta=stats.norm.ppf(poder_teste)\n",
    "    diff=p1-p2\n",
    "    \n",
    "    \n",
    "    return ((z_alpha-z_beta)**2*(p1*(1-p1)+p2*(1-p2)))/(diff**2)"
   ]
  },
  {
   "cell_type": "code",
   "execution_count": 7,
   "id": "a902c2a2",
   "metadata": {},
   "outputs": [],
   "source": [
    "def tamanho_amostral(p1, p2, poder_teste, alpha):\n",
    "    z_alpha=stats.norm.ppf(alpha)\n",
    "    z_beta=stats.norm.ppf(poder_teste)\n",
    "    diff=p1-p2\n",
    "    \n",
    "    \n",
    "    return ((z_alpha+z_beta)**2*(p1*(1-p1)+p2*(1-p2)))/(diff**2)"
   ]
  },
  {
   "cell_type": "code",
   "execution_count": 8,
   "id": "40402020",
   "metadata": {},
   "outputs": [],
   "source": [
    "def tamanho_amostral(p1, p2, poder_teste, alpha):\n",
    "    z_alpha=stats.norm.ppf(1-alpha)\n",
    "    z_beta=stats.norm.ppf(poder_teste)\n",
    "    diff=p1-p2\n",
    "    numerador=z_alpha*np.sqrt((p1+p2)*(2-p1-p2)/2)+z_beta*np.sqrt(p1*(1-p1)+p2*(1-p2))\n",
    "    \n",
    "    return (numerador**2)/(diff**2)"
   ]
  },
  {
   "cell_type": "code",
   "execution_count": 14,
   "id": "efefeff7",
   "metadata": {},
   "outputs": [
    {
     "data": {
      "text/plain": [
       "72.68807025846624"
      ]
     },
     "execution_count": 14,
     "metadata": {},
     "output_type": "execute_result"
    }
   ],
   "source": [
    "tamanho_amostral(0.45, 0.3, 0.8, 0.15)"
   ]
  },
  {
   "cell_type": "code",
   "execution_count": 2,
   "id": "502b3a9e",
   "metadata": {},
   "outputs": [
    {
     "data": {
      "text/plain": [
       "0.8416212335729143"
      ]
     },
     "execution_count": 2,
     "metadata": {},
     "output_type": "execute_result"
    }
   ],
   "source": [
    "stats.norm.ppf(0.8)"
   ]
  }
 ],
 "metadata": {
  "kernelspec": {
   "display_name": "Python 3 (ipykernel)",
   "language": "python",
   "name": "python3"
  },
  "language_info": {
   "codemirror_mode": {
    "name": "ipython",
    "version": 3
   },
   "file_extension": ".py",
   "mimetype": "text/x-python",
   "name": "python",
   "nbconvert_exporter": "python",
   "pygments_lexer": "ipython3",
   "version": "3.9.7"
  }
 },
 "nbformat": 4,
 "nbformat_minor": 5
}
