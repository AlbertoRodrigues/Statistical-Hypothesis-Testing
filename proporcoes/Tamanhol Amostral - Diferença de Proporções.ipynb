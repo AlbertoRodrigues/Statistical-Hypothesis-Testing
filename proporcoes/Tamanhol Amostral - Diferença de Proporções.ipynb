{
 "cells": [
  {
   "cell_type": "code",
   "execution_count": 1,
   "id": "445eb7b5",
   "metadata": {},
   "outputs": [],
   "source": [
    "from scipy import stats\n",
    "import numpy as np"
   ]
  },
  {
   "cell_type": "code",
   "execution_count": 2,
   "id": "4535980f",
   "metadata": {},
   "outputs": [],
   "source": [
    "## Argumentos:\n",
    "# p1: Estimativa da primeira proporção\n",
    "# p2: Estimativa da segunda proporção\n",
    "# beta: Probabilidade do erro tipo 2 (Lembrando que o poder do teste é igual a 1-beta)\n",
    "# alpha: Probabilidade do erro tipo 1\n",
    "def tamanho_amostral(p1, p2, beta, alpha):\n",
    "    z_alpha=stats.norm.ppf(1-alpha)\n",
    "    z_beta=stats.norm.ppf(beta)\n",
    "    p_barra=(p1+p2)/2\n",
    "    numerador=z_alpha*np.sqrt(2*p_barra*(1-p_barra))-z_beta*np.sqrt(p1*(1-p1)+p2*(1-p2))\n",
    "    \n",
    "    return (numerador/(p1-p2))**2"
   ]
  },
  {
   "cell_type": "code",
   "execution_count": 3,
   "id": "efefeff7",
   "metadata": {},
   "outputs": [
    {
     "data": {
      "text/plain": [
       "295.71460013660607"
      ]
     },
     "execution_count": 3,
     "metadata": {},
     "output_type": "execute_result"
    }
   ],
   "source": [
    "tamanho_amostral(0.55, 0.65, 0.2, 0.05)"
   ]
  },
  {
   "cell_type": "code",
   "execution_count": 4,
   "id": "f4b8e56e",
   "metadata": {},
   "outputs": [
    {
     "data": {
      "text/plain": [
       "21.88225954624778"
      ]
     },
     "execution_count": 4,
     "metadata": {},
     "output_type": "execute_result"
    }
   ],
   "source": [
    "tamanho_amostral(0.2, 0.5, 0.2, 0.1)"
   ]
  },
  {
   "cell_type": "code",
   "execution_count": 5,
   "id": "edb07501",
   "metadata": {},
   "outputs": [
    {
     "data": {
      "text/plain": [
       "63.8620735404238"
      ]
     },
     "execution_count": 5,
     "metadata": {},
     "output_type": "execute_result"
    }
   ],
   "source": [
    "tamanho_amostral(0.2, 0.4, 0.2, 0.05)"
   ]
  }
 ],
 "metadata": {
  "kernelspec": {
   "display_name": "Python 3 (ipykernel)",
   "language": "python",
   "name": "python3"
  },
  "language_info": {
   "codemirror_mode": {
    "name": "ipython",
    "version": 3
   },
   "file_extension": ".py",
   "mimetype": "text/x-python",
   "name": "python",
   "nbconvert_exporter": "python",
   "pygments_lexer": "ipython3",
   "version": "3.9.7"
  }
 },
 "nbformat": 4,
 "nbformat_minor": 5
}
