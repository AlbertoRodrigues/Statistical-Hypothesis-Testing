{
 "cells": [
  {
   "cell_type": "code",
   "execution_count": 1,
   "id": "445eb7b5",
   "metadata": {},
   "outputs": [],
   "source": [
    "from scipy import stats\n",
    "import numpy as np"
   ]
  },
  {
   "cell_type": "code",
   "execution_count": 11,
   "id": "4535980f",
   "metadata": {},
   "outputs": [],
   "source": [
    "## Argumentos:\n",
    "# p1: Estimativa da primeira proporção\n",
    "# p2: Estimativa da segunda proporção\n",
    "# beta: Probabilidade do erro tipo 2 (Lembrando que o poder do teste é igual a 1-beta)\n",
    "# alpha: Probabilidade do erro tipo 1\n",
    "# Tipo: Unilateral ou Bilateral, depende do teste de hipotese a ser realizado\n",
    "def tamanho_amostral(p1, p2, beta, alpha, tipo=\"unilateral\"):\n",
    "    if tipo==\"unilateral\":\n",
    "        z_alpha=stats.norm.ppf(1-alpha)\n",
    "    else:\n",
    "        z_alpha=stats.norm.ppf(1-alpha/2)\n",
    "    z_beta=stats.norm.ppf(beta)\n",
    "    p_barra=(p1+p2)/2\n",
    "    numerador=z_alpha*np.sqrt(2*p_barra*(1-p_barra))-z_beta*np.sqrt(p1*(1-p1)+p2*(1-p2))\n",
    "    \n",
    "    return int(np.ceil((numerador/(p1-p2))**2))"
   ]
  },
  {
   "cell_type": "code",
   "execution_count": 12,
   "id": "efefeff7",
   "metadata": {},
   "outputs": [
    {
     "data": {
      "text/plain": [
       "296"
      ]
     },
     "execution_count": 12,
     "metadata": {},
     "output_type": "execute_result"
    }
   ],
   "source": [
    "tamanho_amostral(0.55, 0.65, 0.2, 0.05)"
   ]
  },
  {
   "cell_type": "code",
   "execution_count": 13,
   "id": "cb62539b",
   "metadata": {},
   "outputs": [
    {
     "data": {
      "text/plain": [
       "22"
      ]
     },
     "execution_count": 13,
     "metadata": {},
     "output_type": "execute_result"
    }
   ],
   "source": [
    "tamanho_amostral(0.2, 0.5, 0.2, 0.1)"
   ]
  },
  {
   "cell_type": "code",
   "execution_count": 14,
   "id": "49ea80f0",
   "metadata": {},
   "outputs": [
    {
     "data": {
      "text/plain": [
       "64"
      ]
     },
     "execution_count": 14,
     "metadata": {},
     "output_type": "execute_result"
    }
   ],
   "source": [
    "tamanho_amostral(0.2, 0.4, 0.2, 0.05)"
   ]
  },
  {
   "cell_type": "code",
   "execution_count": 20,
   "id": "c589611c",
   "metadata": {},
   "outputs": [
    {
     "data": {
      "text/plain": [
       "41"
      ]
     },
     "execution_count": 20,
     "metadata": {},
     "output_type": "execute_result"
    }
   ],
   "source": [
    "tamanho_amostral(0.3, 0.53, 0.2, 0.1)"
   ]
  },
  {
   "cell_type": "code",
   "execution_count": 17,
   "id": "f44d9a90",
   "metadata": {},
   "outputs": [
    {
     "data": {
      "text/plain": [
       "76"
      ]
     },
     "execution_count": 17,
     "metadata": {},
     "output_type": "execute_result"
    }
   ],
   "source": [
    "tamanho_amostral(0.45, 0.65, 0.2, 0.1, \"bilateral\")"
   ]
  }
 ],
 "metadata": {
  "kernelspec": {
   "display_name": "Python 3 (ipykernel)",
   "language": "python",
   "name": "python3"
  },
  "language_info": {
   "codemirror_mode": {
    "name": "ipython",
    "version": 3
   },
   "file_extension": ".py",
   "mimetype": "text/x-python",
   "name": "python",
   "nbconvert_exporter": "python",
   "pygments_lexer": "ipython3",
   "version": "3.9.7"
  }
 },
 "nbformat": 4,
 "nbformat_minor": 5
}
