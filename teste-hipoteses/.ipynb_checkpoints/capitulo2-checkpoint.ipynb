{
 "cells": [
  {
   "cell_type": "markdown",
   "id": "d098c3e0",
   "metadata": {},
   "source": [
    "# Teste de diferença de médias entre dois grupos"
   ]
  },
  {
   "cell_type": "code",
   "execution_count": 21,
   "id": "827713ce",
   "metadata": {},
   "outputs": [],
   "source": [
    "import pandas as pd\n",
    "import numpy as np\n",
    "from scipy.stats import norm, t\n",
    "from statsmodels.stats.weightstats import ttest_ind, ztest\n",
    "pd.set_option('display.max_columns', None)"
   ]
  },
  {
   "cell_type": "code",
   "execution_count": 2,
   "id": "8e6dd822",
   "metadata": {},
   "outputs": [],
   "source": [
    "late_shipments = pd.read_feather(\"dados/late_shipments.feather\")\n",
    "stack_overflow = pd.read_feather(\"dados/stack_overflow.feather\")\n",
    "repub_votes_potus_08_12 = pd.read_feather(\"dados/repub_votes_potus_08_12.feather\")\n",
    "dem_votes_potus_12_16 = pd.read_feather(\"dados/dem_votes_potus_12_16.feather\")"
   ]
  },
  {
   "cell_type": "code",
   "execution_count": 15,
   "id": "8640a929",
   "metadata": {},
   "outputs": [
    {
     "data": {
      "text/plain": [
       "array(['adult', 'child'], dtype=object)"
      ]
     },
     "execution_count": 15,
     "metadata": {},
     "output_type": "execute_result"
    }
   ],
   "source": [
    "stack_overflow['age_first_code_cut'].unique()"
   ]
  },
  {
   "cell_type": "code",
   "execution_count": 18,
   "id": "806d4ee8",
   "metadata": {},
   "outputs": [
    {
     "data": {
      "text/plain": [
       "0         77556.0\n",
       "3       2000000.0\n",
       "4         37816.0\n",
       "5        121980.0\n",
       "7        130000.0\n",
       "          ...    \n",
       "2251     155000.0\n",
       "2252    1560000.0\n",
       "2253      30372.0\n",
       "2254      25131.0\n",
       "2255      64630.0\n",
       "Name: converted_comp, Length: 1376, dtype: float64"
      ]
     },
     "execution_count": 18,
     "metadata": {},
     "output_type": "execute_result"
    }
   ],
   "source": [
    "stack_overflow[stack_overflow['age_first_code_cut'] == \"adult\"]['converted_comp']"
   ]
  },
  {
   "cell_type": "code",
   "execution_count": 19,
   "id": "6872863b",
   "metadata": {},
   "outputs": [
    {
     "data": {
      "text/plain": [
       "1        74970.0\n",
       "2       594539.0\n",
       "6        48644.0\n",
       "8        94539.0\n",
       "12      171000.0\n",
       "          ...   \n",
       "2256    145000.0\n",
       "2257     33972.0\n",
       "2258     97284.0\n",
       "2259     72000.0\n",
       "2260    180000.0\n",
       "Name: converted_comp, Length: 885, dtype: float64"
      ]
     },
     "execution_count": 19,
     "metadata": {},
     "output_type": "execute_result"
    }
   ],
   "source": [
    "stack_overflow[stack_overflow['age_first_code_cut'] == \"child\"]['converted_comp']"
   ]
  },
  {
   "cell_type": "code",
   "execution_count": 14,
   "id": "ffbb3461",
   "metadata": {},
   "outputs": [
    {
     "data": {
      "text/plain": [
       "<pandas.core.groupby.generic.SeriesGroupBy object at 0x000002065431B8B0>"
      ]
     },
     "execution_count": 14,
     "metadata": {},
     "output_type": "execute_result"
    }
   ],
   "source": [
    "stack_overflow.groupby('age_first_code_cut')['converted_comp']"
   ]
  },
  {
   "cell_type": "code",
   "execution_count": 7,
   "id": "0384432b",
   "metadata": {},
   "outputs": [],
   "source": [
    "xbar = stack_overflow.groupby('age_first_code_cut')['converted_comp'].mean()"
   ]
  },
  {
   "cell_type": "code",
   "execution_count": 8,
   "id": "22386a7b",
   "metadata": {},
   "outputs": [],
   "source": [
    "s = stack_overflow.groupby('age_first_code_cut')['converted_comp'].std()"
   ]
  },
  {
   "cell_type": "code",
   "execution_count": 9,
   "id": "356c0979",
   "metadata": {},
   "outputs": [],
   "source": [
    "n = stack_overflow.groupby('age_first_code_cut')['converted_comp'].count()"
   ]
  },
  {
   "cell_type": "code",
   "execution_count": 10,
   "id": "bbedcf51",
   "metadata": {},
   "outputs": [],
   "source": [
    "numerator = xbar[\"child\"] - xbar[\"adult\"]\n",
    "denominator = np.sqrt(s[\"child\"] ** 2 / n[\"child\"] + s[\"adult\"] ** 2 / n[\"adult\"])"
   ]
  },
  {
   "cell_type": "code",
   "execution_count": 11,
   "id": "42d7add5",
   "metadata": {},
   "outputs": [
    {
     "data": {
      "text/plain": [
       "1.8699313316221844"
      ]
     },
     "execution_count": 11,
     "metadata": {},
     "output_type": "execute_result"
    }
   ],
   "source": [
    "t_stat = numerator / denominator\n",
    "t_stat"
   ]
  },
  {
   "cell_type": "code",
   "execution_count": 12,
   "id": "a418f33e",
   "metadata": {},
   "outputs": [],
   "source": [
    "# Calculate the degrees of freedom\n",
    "df = n[\"child\"] + n[\"adult\"] -2"
   ]
  },
  {
   "cell_type": "markdown",
   "id": "1db0bd90",
   "metadata": {},
   "source": [
    "## Fazer com que os valores p fazendo manualmente e pela função sejam próximos"
   ]
  },
  {
   "cell_type": "code",
   "execution_count": 23,
   "id": "66a91b51",
   "metadata": {},
   "outputs": [
    {
     "data": {
      "text/plain": [
       "0.030811302165157595"
      ]
     },
     "execution_count": 23,
     "metadata": {},
     "output_type": "execute_result"
    }
   ],
   "source": [
    "# Calculate the p-value from the test stat\n",
    "p_value = 1 - t.cdf(t_stat, df)\n",
    "p_value"
   ]
  },
  {
   "cell_type": "code",
   "execution_count": 22,
   "id": "2526f385",
   "metadata": {},
   "outputs": [
    {
     "data": {
      "text/plain": [
       "Ttest_indResult(statistic=-1.8455110605367857, pvalue=0.06509401769037154)"
      ]
     },
     "execution_count": 22,
     "metadata": {},
     "output_type": "execute_result"
    }
   ],
   "source": [
    "ttest_ind(stack_overflow[stack_overflow['age_first_code_cut'] == \"adult\"]['converted_comp'], \n",
    "         stack_overflow[stack_overflow['age_first_code_cut'] == \"child\"]['converted_comp'])"
   ]
  },
  {
   "cell_type": "code",
   "execution_count": null,
   "id": "b8eb12c9",
   "metadata": {},
   "outputs": [],
   "source": []
  }
 ],
 "metadata": {
  "kernelspec": {
   "display_name": "Python 3 (ipykernel)",
   "language": "python",
   "name": "python3"
  },
  "language_info": {
   "codemirror_mode": {
    "name": "ipython",
    "version": 3
   },
   "file_extension": ".py",
   "mimetype": "text/x-python",
   "name": "python",
   "nbconvert_exporter": "python",
   "pygments_lexer": "ipython3",
   "version": "3.9.7"
  }
 },
 "nbformat": 4,
 "nbformat_minor": 5
}
