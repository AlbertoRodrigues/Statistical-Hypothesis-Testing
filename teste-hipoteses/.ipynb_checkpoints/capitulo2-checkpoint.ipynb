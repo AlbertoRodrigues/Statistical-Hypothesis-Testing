{
 "cells": [
  {
   "cell_type": "markdown",
   "id": "d098c3e0",
   "metadata": {},
   "source": [
    "# Teste de diferença de médias entre dois grupos"
   ]
  },
  {
   "cell_type": "code",
   "execution_count": 1,
   "id": "827713ce",
   "metadata": {},
   "outputs": [],
   "source": [
    "import pandas as pd\n",
    "from scipy.stats import norm, t\n",
    "pd.set_option('display.max_columns', None)"
   ]
  },
  {
   "cell_type": "code",
   "execution_count": 2,
   "id": "8e6dd822",
   "metadata": {},
   "outputs": [],
   "source": [
    "late_shipments = pd.read_feather(\"dados/late_shipments.feather\")\n",
    "stack_overflow = pd.read_feather(\"dados/stack_overflow.feather\")\n",
    "repub_votes_potus_08_12 = pd.read_feather(\"dados/repub_votes_potus_08_12.feather\")\n",
    "dem_votes_potus_12_16 = pd.read_feather(\"dados/dem_votes_potus_12_16.feather\")"
   ]
  },
  {
   "cell_type": "code",
   "execution_count": 3,
   "id": "0384432b",
   "metadata": {},
   "outputs": [
    {
     "data": {
      "text/plain": [
       "age_first_code_cut\n",
       "adult    111313.311047\n",
       "child    132419.570621\n",
       "Name: converted_comp, dtype: float64"
      ]
     },
     "execution_count": 3,
     "metadata": {},
     "output_type": "execute_result"
    }
   ],
   "source": [
    "stack_overflow.groupby('age_first_code_cut')['converted_comp'].mean()"
   ]
  },
  {
   "cell_type": "code",
   "execution_count": 4,
   "id": "22386a7b",
   "metadata": {},
   "outputs": [
    {
     "data": {
      "text/plain": [
       "age_first_code_cut\n",
       "adult    271546.521729\n",
       "child    255585.240115\n",
       "Name: converted_comp, dtype: float64"
      ]
     },
     "execution_count": 4,
     "metadata": {},
     "output_type": "execute_result"
    }
   ],
   "source": [
    "stack_overflow.groupby('age_first_code_cut')['converted_comp'].std()"
   ]
  },
  {
   "cell_type": "code",
   "execution_count": null,
   "id": "356c0979",
   "metadata": {},
   "outputs": [],
   "source": []
  },
  {
   "cell_type": "code",
   "execution_count": null,
   "id": "bbedcf51",
   "metadata": {},
   "outputs": [],
   "source": []
  },
  {
   "cell_type": "code",
   "execution_count": null,
   "id": "08502571",
   "metadata": {},
   "outputs": [],
   "source": []
  },
  {
   "cell_type": "code",
   "execution_count": null,
   "id": "42d7add5",
   "metadata": {},
   "outputs": [],
   "source": []
  }
 ],
 "metadata": {
  "kernelspec": {
   "display_name": "Python 3 (ipykernel)",
   "language": "python",
   "name": "python3"
  },
  "language_info": {
   "codemirror_mode": {
    "name": "ipython",
    "version": 3
   },
   "file_extension": ".py",
   "mimetype": "text/x-python",
   "name": "python",
   "nbconvert_exporter": "python",
   "pygments_lexer": "ipython3",
   "version": "3.9.7"
  }
 },
 "nbformat": 4,
 "nbformat_minor": 5
}
